{
 "cells": [
  {
   "cell_type": "code",
   "execution_count": 2,
   "metadata": {
    "vscode": {
     "languageId": "r"
    }
   },
   "outputs": [
    {
     "name": "stdout",
     "output_type": "stream",
     "text": [
      "The following package(s) will be installed:\n",
      "- basemaps [0.0.5]\n",
      "- dbplyr   [2.4.0]\n",
      "- dplyr    [1.1.4]\n",
      "- duckdb   [0.9.2-1]\n",
      "- ggplot2  [3.4.4]\n",
      "- tidyr    [1.3.1]\n",
      "These packages will be installed into \"/tmp/RtmpEHjI6e/renv-use-libpath-34d464e00f03\".\n",
      "\n",
      "# Installing packages --------------------------------------------------------\n",
      "- Installing dplyr ...                          OK [linked from cache]\n",
      "- Installing tidyr ...                          OK [linked from cache]\n",
      "- Installing duckdb ...                         OK [linked from cache]\n",
      "- Installing dbplyr ...                         OK [linked from cache]\n",
      "- Installing ggplot2 ...                        OK [linked from cache]\n",
      "- Installing basemaps ...                       OK [linked from cache]\n",
      "Successfully installed 6 packages in 11 milliseconds.\n"
     ]
    }
   ],
   "source": [
    "renv::use(\n",
    "  \"dplyr\", \"tidyr\", \"duckdb\", \"dbplyr\", \"ggplot2\", \"basemaps\",\n",
    "  attach = TRUE, sandbox = FALSE\n",
    ")"
   ]
  },
  {
   "cell_type": "code",
   "execution_count": 16,
   "metadata": {
    "vscode": {
     "languageId": "r"
    }
   },
   "outputs": [
    {
     "data": {
      "text/plain": [
       "\u001b[90m# Source:   table<locations> [?? x 7]\u001b[39m\n",
       "\u001b[90m# Database: DuckDB v0.9.2 [robert@Linux 6.6.9-artix1-1:R 4.3.2/../processing/globalamfungi_lsu.duckdb]\u001b[39m\n",
       "   sample_id taxon_id abundance  total longitude latitude Species               \n",
       "       \u001b[3m\u001b[90m<int>\u001b[39m\u001b[23m \u001b[3m\u001b[90m<chr>\u001b[39m\u001b[23m        \u001b[3m\u001b[90m<int>\u001b[39m\u001b[23m  \u001b[3m\u001b[90m<int>\u001b[39m\u001b[23m     \u001b[3m\u001b[90m<dbl>\u001b[39m\u001b[23m    \u001b[3m\u001b[90m<dbl>\u001b[39m\u001b[23m \u001b[3m\u001b[90m<chr>\u001b[39m\u001b[23m                 \n",
       "\u001b[90m 1\u001b[39m      \u001b[4m7\u001b[24m805 MT832194        12 \u001b[4m2\u001b[24m\u001b[4m2\u001b[24m\u001b[4m1\u001b[24m538    -\u001b[31m116\u001b[39m\u001b[31m.\u001b[39m      43.3 Rhizophagus irregular…\n",
       "\u001b[90m 2\u001b[39m      \u001b[4m7\u001b[24m806 MT832194        41 \u001b[4m9\u001b[24m\u001b[4m5\u001b[24m\u001b[4m1\u001b[24m993    -\u001b[31m116\u001b[39m\u001b[31m.\u001b[39m      43.3 Rhizophagus irregular…\n",
       "\u001b[90m 3\u001b[39m      \u001b[4m7\u001b[24m814 MT832194         2 \u001b[4m1\u001b[24m\u001b[4m3\u001b[24m\u001b[4m9\u001b[24m418    -\u001b[31m116\u001b[39m\u001b[31m.\u001b[39m      43.3 Rhizophagus irregular…\n",
       "\u001b[90m 4\u001b[39m      \u001b[4m8\u001b[24m077 MT832194         5  \u001b[4m3\u001b[24m\u001b[4m0\u001b[24m383    -\u001b[31m116\u001b[39m\u001b[31m.\u001b[39m      43.3 Rhizophagus irregular…\n",
       "\u001b[90m 5\u001b[39m      \u001b[4m7\u001b[24m929 MT832194         2  \u001b[4m5\u001b[24m\u001b[4m4\u001b[24m553    -\u001b[31m116\u001b[39m\u001b[31m.\u001b[39m      43.3 Rhizophagus irregular…\n",
       "\u001b[90m 6\u001b[39m      \u001b[4m8\u001b[24m007 MT832194         1    765    -\u001b[31m122\u001b[39m\u001b[31m.\u001b[39m      48.8 Rhizophagus irregular…\n",
       "\u001b[90m 7\u001b[39m      \u001b[4m7\u001b[24m806 MT832194         1 \u001b[4m9\u001b[24m\u001b[4m5\u001b[24m\u001b[4m1\u001b[24m993    -\u001b[31m116\u001b[39m\u001b[31m.\u001b[39m      43.3 Rhizophagus irregular…\n",
       "\u001b[90m 8\u001b[39m      \u001b[4m7\u001b[24m807 MT832194         1  \u001b[4m2\u001b[24m\u001b[4m0\u001b[24m890     -\u001b[31m99\u001b[39m\u001b[31m.\u001b[39m\u001b[31m6\u001b[39m     24.9 Rhizophagus irregular…\n",
       "\u001b[90m 9\u001b[39m      \u001b[4m7\u001b[24m806 MT832194         1 \u001b[4m9\u001b[24m\u001b[4m5\u001b[24m\u001b[4m1\u001b[24m993    -\u001b[31m116\u001b[39m\u001b[31m.\u001b[39m      43.3 Rhizophagus irregular…\n",
       "\u001b[90m10\u001b[39m      \u001b[4m7\u001b[24m805 MT832194         1 \u001b[4m2\u001b[24m\u001b[4m2\u001b[24m\u001b[4m1\u001b[24m538    -\u001b[31m116\u001b[39m\u001b[31m.\u001b[39m      43.3 Rhizophagus irregular…\n",
       "\u001b[90m# ℹ more rows\u001b[39m"
      ]
     },
     "metadata": {},
     "output_type": "display_data"
    }
   ],
   "source": [
    "con <- dbConnect(\n",
    "  duckdb(), dbdir = \"../processing/globalamfungi_lsu.duckdb\", read_only = FALSE\n",
    ")\n",
    "inner_join(\n",
    "  tbl(con, \"occurances\") |> select(sample_id, taxon_id, abundance, total),\n",
    "  tbl(con, \"samples\") |> select(id, longitude, latitude),\n",
    "  by = join_by(sample_id == id)\n",
    ") |>\n",
    "  inner_join(\n",
    "    tbl(con, \"taxa\") |> select(accession, Species),\n",
    "    by = join_by(taxon_id == accession)\n",
    "  ) |>\n",
    "  compute(name = \"locations\")"
   ]
  },
  {
   "cell_type": "code",
   "execution_count": 17,
   "metadata": {
    "vscode": {
     "languageId": "r"
    }
   },
   "outputs": [
    {
     "data": {
      "text/plain": [
       "\u001b[90m# Source:   SQL [?? x 2]\u001b[39m\n",
       "\u001b[90m# Database: DuckDB v0.9.2 [robert@Linux 6.6.9-artix1-1:R 4.3.2/../processing/globalamfungi_lsu.duckdb]\u001b[39m\n",
       "   taxon_id      n\n",
       "   \u001b[3m\u001b[90m<chr>\u001b[39m\u001b[23m     \u001b[3m\u001b[90m<dbl>\u001b[39m\u001b[23m\n",
       "\u001b[90m 1\u001b[39m FJ461853   \u001b[4m1\u001b[24m737\n",
       "\u001b[90m 2\u001b[39m FM992391     65\n",
       "\u001b[90m 3\u001b[39m FN547496  \u001b[4m4\u001b[24m\u001b[4m8\u001b[24m221\n",
       "\u001b[90m 4\u001b[39m FR750072    525\n",
       "\u001b[90m 5\u001b[39m FR750203    780\n",
       "\u001b[90m 6\u001b[39m MG710519    194\n",
       "\u001b[90m 7\u001b[39m MH560604    758\n",
       "\u001b[90m 8\u001b[39m MT832216     31\n",
       "\u001b[90m 9\u001b[39m MT832181 \u001b[4m1\u001b[24m\u001b[4m6\u001b[24m\u001b[4m0\u001b[24m508\n",
       "\u001b[90m10\u001b[39m MT832182  \u001b[4m6\u001b[24m\u001b[4m2\u001b[24m591\n",
       "\u001b[90m# ℹ more rows\u001b[39m"
      ]
     },
     "metadata": {},
     "output_type": "display_data"
    },
    {
     "data": {
      "image/png": "[encoded data removed]",
      "text/plain": [
       "plot without title"
      ]
     },
     "metadata": {
      "image/png": {
       "height": 420,
       "width": 420
      }
     },
     "output_type": "display_data"
    }
   ],
   "source": [
    "count(tbl(con, \"locations\"), taxon_id)\n",
    "\n",
    "ggplot(\n",
    "  data = tbl(con, \"locations\")\n",
    ") +\n",
    "  geom_point(aes(x = longitude, y = latitude))"
   ]
  },
  {
   "cell_type": "code",
   "execution_count": 14,
   "metadata": {
    "vscode": {
     "languageId": "r"
    }
   },
   "outputs": [],
   "source": [
    "dbDisconnect(con, shutdown = TRUE)"
   ]
  }
 ],
 "metadata": {
  "kernelspec": {
   "display_name": "R",
   "language": "R",
   "name": "ir"
  },
  "language_info": {
   "codemirror_mode": "r",
   "file_extension": ".r",
   "mimetype": "text/x-r-source",
   "name": "R",
   "pygments_lexer": "r",
   "version": "4.3.2"
  }
 },
 "nbformat": 4,
 "nbformat_minor": 2
}
