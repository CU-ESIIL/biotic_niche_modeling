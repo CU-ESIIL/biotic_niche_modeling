{
 "cells": [
  {
   "cell_type": "code",
   "execution_count": 4,
   "metadata": {
    "vscode": {
     "languageId": "r"
    }
   },
   "outputs": [
    {
     "name": "stderr",
     "output_type": "stream",
     "text": [
      "Linking to GEOS 3.12.1, GDAL 3.9.0, PROJ 9.4.0; sf_use_s2() is TRUE\n",
      "\n"
     ]
    }
   ],
   "source": [
    "library(raster)\n",
    "library(terra)\n",
    "library(sf)\n"
   ]
  },
  {
   "cell_type": "code",
   "execution_count": 11,
   "metadata": {
    "vscode": {
     "languageId": "r"
    }
   },
   "outputs": [
    {
     "name": "stdout",
     "output_type": "stream",
     "text": [
      "Cannot open data source /data-store/iplant/home/rjramos/gssurgo/October 2023 gSSURGO CONUS/gSSURGO_CONUS.gdb\n"
     ]
    },
    {
     "ename": "ERROR",
     "evalue": "Error in eval(expr, envir, enclos): Open failed.\n\n",
     "output_type": "error",
     "traceback": [
      "Error in eval(expr, envir, enclos): Open failed.\n\nTraceback:\n",
      "1. st_layers(dsn = \"/data-store/iplant/home/rjramos/gssurgo/October 2023 gSSURGO CONUS/gSSURGO_CONUS.gdb/\")",
      "2. CPL_get_layers(dsn, options, do_count)"
     ]
    }
   ],
   "source": [
    "#======================================================\n",
    "# Working with multipart zip files in unix is annoying\n",
    "#======================================================\n",
    "# zip -FF gSSURGO_CONUS.zip --out gSSURGO_CONUS_combined_fix.zip\n",
    "# unzip gSSURGO_CONUS_combined_fix.zip\n",
    "\n",
    "st_layers(dsn = \"/data-store/iplant/home/rjramos/gssurgo/October 2023 gSSURGO CONUS/gSSURGO_CONUS.gdb/\")"
   ]
  },
  {
   "cell_type": "code",
   "execution_count": null,
   "metadata": {
    "vscode": {
     "languageId": "r"
    }
   },
   "outputs": [],
   "source": [
    "ogrListLayers(\"/data-store/iplant/home/rjramos/gssurgo/October 2023 gSSURGO CONUS/gSSURGO_CONUS.gbd\")\n",
    "\n",
    "\n",
    "f <- \"/data-stonlcd_agg.grd\"\n",
    "r <- raster(f)\n",
    "\n",
    "library(terra)\n",
    "x <- rast(r)\n",
    "\n",
    "# get the attributes\n",
    "lev <- levels(r)[[1]]  \n",
    "lev <- lev[, c(\"ID\", \"Land.Cover.Class\")]\n",
    "lev[,2] <- as.character(lev[,2])\n",
    "\n",
    "x <- rast(r)\n",
    "levels(x) <- lev\n",
    "is.factor(x)"
   ]
  }
 ],
 "metadata": {
  "kernelspec": {
   "display_name": "R",
   "language": "R",
   "name": "ir"
  },
  "language_info": {
   "codemirror_mode": "r",
   "file_extension": ".r",
   "mimetype": "text/x-r-source",
   "name": "R",
   "pygments_lexer": "r",
   "version": "4.3.3"
  }
 },
 "nbformat": 4,
 "nbformat_minor": 2
}
