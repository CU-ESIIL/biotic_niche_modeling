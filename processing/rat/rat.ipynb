{
 "cells": [
  {
   "cell_type": "code",
   "execution_count": 1,
   "metadata": {
    "vscode": {
     "languageId": "r"
    }
   },
   "outputs": [
    {
     "name": "stderr",
     "output_type": "stream",
     "text": [
      "Loading required package: sp\n",
      "\n"
     ]
    },
    {
     "name": "stderr",
     "output_type": "stream",
     "text": [
      "terra 1.7.78\n",
      "\n"
     ]
    }
   ],
   "source": [
    "library(raster)\n",
    "library(terra)\n"
   ]
  },
  {
   "cell_type": "code",
   "execution_count": null,
   "metadata": {
    "vscode": {
     "languageId": "r"
    }
   },
   "outputs": [],
   "source": [
    "f <- \"/data-stonlcd_agg.grd\"\n",
    "r <- raster(f)\n",
    "\n",
    "library(terra)\n",
    "x <- rast(r)\n",
    "\n",
    "# get the attributes\n",
    "lev <- levels(r)[[1]]  \n",
    "lev <- lev[, c(\"ID\", \"Land.Cover.Class\")]\n",
    "lev[,2] <- as.character(lev[,2])\n",
    "\n",
    "x <- rast(r)\n",
    "levels(x) <- lev\n",
    "is.factor(x)"
   ]
  }
 ],
 "metadata": {
  "kernelspec": {
   "display_name": "R",
   "language": "R",
   "name": "ir"
  },
  "language_info": {
   "codemirror_mode": "r",
   "file_extension": ".r",
   "mimetype": "text/x-r-source",
   "name": "R",
   "pygments_lexer": "r",
   "version": "4.3.3"
  }
 },
 "nbformat": 4,
 "nbformat_minor": 2
}
