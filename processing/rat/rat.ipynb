{
 "cells": [
  {
   "cell_type": "code",
   "execution_count": 1,
   "metadata": {
    "vscode": {
     "languageId": "r"
    }
   },
   "outputs": [
    {
     "name": "stderr",
     "output_type": "stream",
     "text": [
      "Loading required package: sp\n",
      "\n",
      "terra 1.7.78\n",
      "\n",
      "Linking to GEOS 3.12.1, GDAL 3.9.0, PROJ 9.4.0; sf_use_s2() is TRUE\n",
      "\n"
     ]
    }
   ],
   "source": [
    "library(raster)\n",
    "library(terra)\n",
    "library(sf)\n"
   ]
  },
  {
   "cell_type": "code",
   "execution_count": 2,
   "metadata": {
    "vscode": {
     "languageId": "r"
    }
   },
   "outputs": [
    {
     "name": "stderr",
     "output_type": "stream",
     "text": [
      "Warning message in new_CppObject_xp(fields$.module, fields$.pointer, ...):\n",
      "“GDAL Error 4: /data-store/iplant/home/rjramos/gssurgo/October 2023 gSSURGO CONUS/gSSURGO_CONUS.gdb/: No such file or directory”\n"
     ]
    },
    {
     "ename": "ERROR",
     "evalue": "Error: [rast] file does not exist: /data-store/iplant/home/rjramos/gssurgo/October 2023 gSSURGO CONUS/gSSURGO_CONUS.gdb/\n",
     "output_type": "error",
     "traceback": [
      "Error: [rast] file does not exist: /data-store/iplant/home/rjramos/gssurgo/October 2023 gSSURGO CONUS/gSSURGO_CONUS.gdb/\nTraceback:\n",
      "1. rast(\"/data-store/iplant/home/rjramos/gssurgo/October 2023 gSSURGO CONUS/gSSURGO_CONUS.gdb/\", \n .     subds = c(\"gSSURGO_CONUS\"))",
      "2. rast(\"/data-store/iplant/home/rjramos/gssurgo/October 2023 gSSURGO CONUS/gSSURGO_CONUS.gdb/\", \n .     subds = c(\"gSSURGO_CONUS\"))",
      "3. .local(x, ...)",
      "4. messages(r, \"rast\")",
      "5. error(f, x@ptr$getError())",
      "6. stop(\"[\", f, \"] \", emsg, ..., call. = FALSE)"
     ]
    }
   ],
   "source": [
    "#======================================================\n",
    "# Working with multipart zip files in unix is annoying\n",
    "#======================================================\n",
    "# zip -FF gSSURGO_CONUS.zip --out gSSURGO_CONUS_combined_fix.zip\n",
    "# unzip gSSURGO_CONUS_combined_fix.zip\n",
    "rast(\n",
    "  \"/data-store/iplant/home/rjramos/gssurgo/October 2023 gSSURGO CONUS/gSSURGO_CONUS.gdb/\",\n",
    "  subds = c(\"gSSURGO_CONUS\")\n",
    "  )\n",
    "# st_layers(dsn = \"/data-store/iplant/home/rjramos/gssurgo/October 2023 gSSURGO CONUS/gSSURGO_CONUS.gdb/\")"
   ]
  },
  {
   "cell_type": "code",
   "execution_count": null,
   "metadata": {
    "vscode": {
     "languageId": "r"
    }
   },
   "outputs": [],
   "source": [
    "ogrListLayers(\"/data-store/iplant/home/rjramos/gssurgo/October 2023 gSSURGO CONUS/gSSURGO_CONUS.gbd\")\n",
    "\n",
    "\n",
    "f <- \"/data-stonlcd_agg.grd\"\n",
    "r <- raster(f)\n",
    "\n",
    "library(terra)\n",
    "x <- rast(r)\n",
    "\n",
    "# get the attributes\n",
    "lev <- levels(r)[[1]]  \n",
    "lev <- lev[, c(\"ID\", \"Land.Cover.Class\")]\n",
    "lev[,2] <- as.character(lev[,2])\n",
    "\n",
    "x <- rast(r)\n",
    "levels(x) <- lev\n",
    "is.factor(x)"
   ]
  }
 ],
 "metadata": {
  "kernelspec": {
   "display_name": "R",
   "language": "R",
   "name": "ir"
  },
  "language_info": {
   "codemirror_mode": "r",
   "file_extension": ".r",
   "mimetype": "text/x-r-source",
   "name": "R",
   "pygments_lexer": "r",
   "version": "4.3.3"
  }
 },
 "nbformat": 4,
 "nbformat_minor": 2
}
