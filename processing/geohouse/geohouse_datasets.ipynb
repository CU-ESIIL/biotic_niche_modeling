{
 "cells": [
  {
   "cell_type": "code",
   "execution_count": 3,
   "metadata": {
    "vscode": {
     "languageId": "r"
    }
   },
   "outputs": [
    {
     "name": "stderr",
     "output_type": "stream",
     "text": [
      "\n",
      "Attaching package: ‘dplyr’\n",
      "\n",
      "\n",
      "The following objects are masked from ‘package:stats’:\n",
      "\n",
      "    filter, lag\n",
      "\n",
      "\n",
      "The following objects are masked from ‘package:base’:\n",
      "\n",
      "    intersect, setdiff, setequal, union\n",
      "\n",
      "\n"
     ]
    }
   ],
   "source": [
    "invisible(lapply(c(\n",
    "  \"dplyr\",\"tidyr\"\n",
    "), library, character.only = TRUE))\n",
    "\n",
    "# Set up appropriate contrasts for Type III ANOVAs\n",
    "## First arg is for unordered factors, second is for ordered\n",
    "## contr.sum contrast coefficients for each categorical add up to 0\n",
    "## contr.poly contrasts measures the rate of change of the set of coefficients\n",
    "options(contrasts = c(\"contr.sum\", \"contr.poly\"))"
   ]
  },
  {
   "cell_type": "code",
   "execution_count": 10,
   "metadata": {
    "vscode": {
     "languageId": "r"
    }
   },
   "outputs": [
    {
     "data": {
      "text/html": [
       "5575"
      ],
      "text/latex": [
       "5575"
      ],
      "text/markdown": [
       "5575"
      ],
      "text/plain": [
       "[1] 5575"
      ]
     },
     "metadata": {},
     "output_type": "display_data"
    },
    {
     "data": {
      "text/html": [
       "40002"
      ],
      "text/latex": [
       "40002"
      ],
      "text/markdown": [
       "40002"
      ],
      "text/plain": [
       "[1] 40002"
      ]
     },
     "metadata": {},
     "output_type": "display_data"
    },
    {
     "data": {
      "text/html": [
       "499507"
      ],
      "text/latex": [
       "499507"
      ],
      "text/markdown": [
       "499507"
      ],
      "text/plain": [
       "[1] 499507"
      ]
     },
     "metadata": {},
     "output_type": "display_data"
    },
    {
     "data": {
      "text/html": [
       "4281567"
      ],
      "text/latex": [
       "4281567"
      ],
      "text/markdown": [
       "4281567"
      ],
      "text/plain": [
       "[1] 4281567"
      ]
     },
     "metadata": {},
     "output_type": "display_data"
    }
   ],
   "source": [
    "occurances <- read.table(\n",
    "  file = \"occurances.tsv\", sep = \"\\t\",\n",
    "  header = TRUE, check.names = FALSE\n",
    ")\n",
    "taxa <- read.table(\n",
    "  file = \"taxa.tsv\", sep = \"\\t\",\n",
    "  header = TRUE, check.names = FALSE\n",
    ")\n",
    "occurances <- pivot_longer(\n",
    "  data = occurances,\n",
    "  cols = !all_of(c(\"uid\", \"sample_id\", \"marker\", \"total\")),\n",
    "  names_to = \"taxon_id\",\n",
    "  values_to = \"abundance\"\n",
    ") |> \n",
    "  filter(abundance > 0) |>\n",
    "  mutate(taxon_id = paste0(\"hotu_\", taxon_id))\n",
    "\n",
    "# Need to exclude non AMF\n",
    "nrow(occurances[occurances$taxon_id %in% taxa$taxa_id, \"abundance\"])\n",
    "nrow(occurances[, \"abundance\"])\n",
    "sum(occurances[occurances$taxon_id %in% taxa$taxa_id, \"abundance\"])\n",
    "sum(occurances[, \"abundance\"])\n",
    "occurances <- occurances[occurances$taxon_id %in% taxa$taxa_id, ]\n",
    "\n",
    "write.table(occurances, \"h_occurances.tsv\", sep = \"\\t\",row.names = FALSE, col.names = TRUE)"
   ]
  }
 ],
 "metadata": {
  "kernelspec": {
   "display_name": "R",
   "language": "R",
   "name": "ir"
  },
  "language_info": {
   "codemirror_mode": "r",
   "file_extension": ".r",
   "mimetype": "text/x-r-source",
   "name": "R",
   "pygments_lexer": "r",
   "version": "4.3.3"
  }
 },
 "nbformat": 4,
 "nbformat_minor": 2
}
