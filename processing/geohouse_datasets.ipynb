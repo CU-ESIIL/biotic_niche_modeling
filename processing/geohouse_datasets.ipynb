{
 "cells": [
  {
   "cell_type": "code",
   "execution_count": 1,
   "metadata": {
    "vscode": {
     "languageId": "r"
    }
   },
   "outputs": [
    {
     "name": "stderr",
     "output_type": "stream",
     "text": [
      "\n",
      "Attaching package: ‘dplyr’\n",
      "\n",
      "\n",
      "The following objects are masked from ‘package:stats’:\n",
      "\n",
      "    filter, lag\n",
      "\n",
      "\n",
      "The following objects are masked from ‘package:base’:\n",
      "\n",
      "    intersect, setdiff, setequal, union\n",
      "\n",
      "\n"
     ]
    }
   ],
   "source": [
    "invisible(lapply(c(\n",
    "  \"dplyr\",\"tidyr\"\n",
    "), library, character.only = TRUE))\n",
    "\n",
    "# Set up appropriate contrasts for Type III ANOVAs\n",
    "## First arg is for unordered factors, second is for ordered\n",
    "## contr.sum contrast coefficients for each categorical add up to 0\n",
    "## contr.poly contrasts measures the rate of change of the set of coefficients\n",
    "options(contrasts = c(\"contr.sum\", \"contr.poly\"))"
   ]
  },
  {
   "cell_type": "code",
   "execution_count": 16,
   "metadata": {
    "vscode": {
     "languageId": "r"
    }
   },
   "outputs": [],
   "source": [
    "occurances <- read.table(\n",
    "  file = \"geohouse/occurances.tsv\", sep = \"\\t\", \n",
    "  header = TRUE, check.names = FALSE\n",
    ")\n",
    "occurances <- pivot_longer(\n",
    "  data = occurances,\n",
    "  cols = !all_of(c(\"uid\",\"sample_id\", \"marker\", \"total\")),\n",
    "  names_to = \"taxon_id\",\n",
    "  values_to = \"abundance\"\n",
    ") |> \n",
    "  filter(abundance > 0) |> \n",
    "  mutate(taxon_id = paste0(\"hotu_\", taxon_id))\n",
    "write.table(occurances, \"h_occurances.tsv\", sep = \"\\t\",row.names = FALSE, col.names = TRUE)"
   ]
  }
 ],
 "metadata": {
  "kernelspec": {
   "display_name": "R",
   "language": "R",
   "name": "ir"
  },
  "language_info": {
   "codemirror_mode": "r",
   "file_extension": ".r",
   "mimetype": "text/x-r-source",
   "name": "R",
   "pygments_lexer": "r",
   "version": "4.3.2"
  }
 },
 "nbformat": 4,
 "nbformat_minor": 2
}
