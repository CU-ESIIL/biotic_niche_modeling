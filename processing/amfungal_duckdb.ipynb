{
 "cells": [
  {
   "cell_type": "code",
   "execution_count": 1,
   "metadata": {
    "vscode": {
     "languageId": "r"
    }
   },
   "outputs": [
    {
     "name": "stdout",
     "output_type": "stream",
     "text": [
      "The following package(s) will be installed:\n",
      "- blob     [1.2.4]\n",
      "- DBI      [1.2.1]\n",
      "- dbplyr   [2.4.0]\n",
      "- dplyr    [1.1.4]\n",
      "- duckdb   [0.9.2-1]\n",
      "- generics [0.1.3]\n",
      "- tidyr    [1.3.1]\n",
      "These packages will be installed into \"/tmp/Rtmp5WJGO4/renv-use-libpath-60c81b0543da\".\n",
      "\n",
      "# Installing packages --------------------------------------------------------\n",
      "- Installing generics ...                       OK [linked from cache]\n",
      "- Installing dplyr ...                          OK [linked from cache]\n",
      "- Installing tidyr ...                          OK [linked from cache]\n",
      "- Installing DBI ...                            OK [linked from cache]\n",
      "- Installing duckdb ...                         OK [linked from cache]\n",
      "- Installing blob ...                           OK [linked from cache]\n",
      "- Installing dbplyr ...                         OK [linked from cache]\n",
      "Successfully installed 7 packages in 15 milliseconds.\n"
     ]
    },
    {
     "name": "stderr",
     "output_type": "stream",
     "text": [
      "\n",
      "Attaching package: ‘dplyr’\n",
      "\n",
      "\n",
      "The following objects are masked from ‘package:stats’:\n",
      "\n",
      "    filter, lag\n",
      "\n",
      "\n",
      "The following objects are masked from ‘package:base’:\n",
      "\n",
      "    intersect, setdiff, setequal, union\n",
      "\n",
      "\n",
      "Loading required package: DBI\n",
      "\n",
      "\n",
      "Attaching package: ‘dbplyr’\n",
      "\n",
      "\n",
      "The following objects are masked from ‘package:dplyr’:\n",
      "\n",
      "    ident, sql\n",
      "\n",
      "\n"
     ]
    }
   ],
   "source": [
    "renv::use(\n",
    "  \"dplyr\", \"tidyr\", \"duckdb\", \"dbplyr\",\n",
    "  attach = TRUE, sandbox = FALSE\n",
    ")"
   ]
  },
  {
   "cell_type": "code",
   "execution_count": 5,
   "metadata": {
    "vscode": {
     "languageId": "r"
    }
   },
   "outputs": [],
   "source": [
    "con <- dbConnect(\n",
    "  duckdb(), dbdir = \"globalamfungi_lsu.duckdb\", read_only = FALSE\n",
    ")"
   ]
  },
  {
   "cell_type": "code",
   "execution_count": 6,
   "metadata": {
    "vscode": {
     "languageId": "r"
    }
   },
   "outputs": [],
   "source": [
    "copy_to(\n",
    "  con, read.table(\"occurances.tsv\", sep = \"\\t\", header = TRUE),\n",
    "  name = \"occurances\", temporary = FALSE\n",
    ")\n",
    "copy_to(\n",
    "  con, read.table(\"sample_list.tsv\", sep = \"\\t\", header = TRUE),\n",
    "  name = \"samples\", temporary = FALSE\n",
    ")\n",
    "copy_to(\n",
    "  con, read.table(\"taxa_list.tsv\", sep = \"\\t\", header = TRUE),\n",
    "  name = \"taxa\", temporary = FALSE\n",
    ")\n",
    "copy_to(\n",
    "  con, read.table(\"Pubs.tsv\", sep = \"\\t\", header = TRUE),\n",
    "  name = \"ncbi\", temporary = FALSE\n",
    ")"
   ]
  },
  {
   "cell_type": "code",
   "execution_count": 7,
   "metadata": {
    "vscode": {
     "languageId": "r"
    }
   },
   "outputs": [],
   "source": [
    "dbDisconnect(con, shutdown = TRUE)"
   ]
  }
 ],
 "metadata": {
  "kernelspec": {
   "display_name": "R",
   "language": "R",
   "name": "ir"
  },
  "language_info": {
   "codemirror_mode": "r",
   "file_extension": ".r",
   "mimetype": "text/x-r-source",
   "name": "R",
   "pygments_lexer": "r",
   "version": "4.3.2"
  }
 },
 "nbformat": 4,
 "nbformat_minor": 2
}
