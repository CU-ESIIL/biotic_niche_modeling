{
 "cells": [
  {
   "cell_type": "code",
   "execution_count": 21,
   "metadata": {
    "vscode": {
     "languageId": "r"
    }
   },
   "outputs": [],
   "source": [
    "invisible(lapply(c(\n",
    "  \"dplyr\", \"tidyr\", \"duckdb\", \"dbplyr\"\n",
    "), library, character.only = TRUE))"
   ]
  },
  {
   "cell_type": "code",
   "execution_count": 22,
   "metadata": {
    "vscode": {
     "languageId": "r"
    }
   },
   "outputs": [],
   "source": [
    "con <- dbConnect(\n",
    "  duckdb(), dbdir = \"globalamfungi_lsu.duckdb\", read_only = FALSE\n",
    ")"
   ]
  },
  {
   "cell_type": "code",
   "execution_count": 23,
   "metadata": {
    "vscode": {
     "languageId": "r"
    }
   },
   "outputs": [],
   "source": [
    "copy_to(\n",
    "  con, read.table(\"occurances.tsv\", sep = \"\\t\", header = TRUE),\n",
    "  name = \"occurances\", temporary = FALSE\n",
    ")\n",
    "copy_to(\n",
    "  con, read.table(\"sample_list.tsv\", sep = \"\\t\", header = TRUE),\n",
    "  name = \"samples\", temporary = FALSE\n",
    ")\n",
    "copy_to(\n",
    "  con, read.table(\"taxa_list.tsv\", sep = \"\\t\", header = TRUE),\n",
    "  name = \"taxa\", temporary = FALSE\n",
    ")\n",
    "copy_to(\n",
    "  con, read.table(\"studies.tsv\", sep = \"\\t\", header = TRUE),\n",
    "  name = \"studies\", temporary = FALSE\n",
    ")"
   ]
  },
  {
   "cell_type": "code",
   "execution_count": 56,
   "metadata": {
    "vscode": {
     "languageId": "r"
    }
   },
   "outputs": [
    {
     "data": {
      "text/html": [
       "0"
      ],
      "text/latex": [
       "0"
      ],
      "text/markdown": [
       "0"
      ],
      "text/plain": [
       "[1] 0"
      ]
     },
     "metadata": {},
     "output_type": "display_data"
    },
    {
     "data": {
      "text/html": [
       "0"
      ],
      "text/latex": [
       "0"
      ],
      "text/markdown": [
       "0"
      ],
      "text/plain": [
       "[1] 0"
      ]
     },
     "metadata": {},
     "output_type": "display_data"
    }
   ],
   "source": [
    "dbExecute(con, \"ALTER TABLE occurances ALTER sample_id TYPE VARCHAR\")\n",
    "dbExecute(con, \"ALTER TABLE samples ALTER id TYPE VARCHAR\")"
   ]
  },
  {
   "cell_type": "code",
   "execution_count": 57,
   "metadata": {
    "vscode": {
     "languageId": "r"
    }
   },
   "outputs": [
    {
     "name": "stderr",
     "output_type": "stream",
     "text": [
      "Matching, by = \"uid\"\n",
      "Matching, by = \"taxa_id\"\n",
      "Matching, by = \"paper_id\"\n",
      "Matching, by = \"id\"\n"
     ]
    }
   ],
   "source": [
    "rows_insert(\n",
    "  tbl(con, \"occurances\"),\n",
    "  read.table(\"h_occurances.tsv\", sep = \"\\t\", header = TRUE),\n",
    "  conflict = \"ignore\", copy = TRUE, in_place = TRUE\n",
    ")\n",
    "rows_insert(\n",
    "  tbl(con, \"taxa\"),\n",
    "  read.table(\"geohouse/taxa.tsv\", sep = \"\\t\", header = TRUE),\n",
    "  conflict = \"ignore\", copy = TRUE, in_place = TRUE\n",
    ")\n",
    "rows_insert(\n",
    "  tbl(con, \"studies\"),\n",
    "  read.table(\"geohouse/study.tsv\", sep = \"\\t\", header = TRUE),\n",
    "  conflict = \"ignore\", copy = TRUE, in_place = TRUE\n",
    ")\n",
    "rows_insert(\n",
    "  tbl(con, \"samples\"),\n",
    "  read.table(\"geohouse/samples.tsv\", sep = \"\\t\", header = TRUE),\n",
    "  conflict = \"ignore\", copy = TRUE, in_place = TRUE\n",
    ")"
   ]
  },
  {
   "cell_type": "code",
   "execution_count": 58,
   "metadata": {
    "vscode": {
     "languageId": "r"
    }
   },
   "outputs": [],
   "source": [
    "dbDisconnect(con, shutdown = TRUE)"
   ]
  }
 ],
 "metadata": {
  "kernelspec": {
   "display_name": "R",
   "language": "R",
   "name": "ir"
  },
  "language_info": {
   "codemirror_mode": "r",
   "file_extension": ".r",
   "mimetype": "text/x-r-source",
   "name": "R",
   "pygments_lexer": "r",
   "version": "4.3.2"
  }
 },
 "nbformat": 4,
 "nbformat_minor": 2
}
