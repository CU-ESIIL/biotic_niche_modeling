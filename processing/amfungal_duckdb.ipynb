{
 "cells": [
  {
   "cell_type": "code",
   "execution_count": 1,
   "metadata": {
    "vscode": {
     "languageId": "r"
    }
   },
   "outputs": [
    {
     "name": "stderr",
     "output_type": "stream",
     "text": [
      "\n",
      "Attaching package: ‘dplyr’\n",
      "\n",
      "\n",
      "The following objects are masked from ‘package:stats’:\n",
      "\n",
      "    filter, lag\n",
      "\n",
      "\n",
      "The following objects are masked from ‘package:base’:\n",
      "\n",
      "    intersect, setdiff, setequal, union\n",
      "\n",
      "\n",
      "Loading required package: DBI\n",
      "\n",
      "\n",
      "Attaching package: ‘dbplyr’\n",
      "\n",
      "\n",
      "The following objects are masked from ‘package:dplyr’:\n",
      "\n",
      "    ident, sql\n",
      "\n",
      "\n"
     ]
    }
   ],
   "source": [
    "invisible(lapply(c(\n",
    "  \"dplyr\", \"tidyr\", \"duckdb\", \"dbplyr\"\n",
    "), library, character.only = TRUE))"
   ]
  },
  {
   "cell_type": "code",
   "execution_count": 6,
   "metadata": {
    "vscode": {
     "languageId": "r"
    }
   },
   "outputs": [],
   "source": [
    "con <- dbConnect(\n",
    "  duckdb(), dbdir = \"globalamfungi_lsu.duckdb\", read_only = FALSE\n",
    ")"
   ]
  },
  {
   "cell_type": "code",
   "execution_count": 7,
   "metadata": {
    "vscode": {
     "languageId": "r"
    }
   },
   "outputs": [],
   "source": [
    "copy_to(\n",
    "  con, read.table(\"occurances.tsv\", sep = \"\\t\", header = TRUE),\n",
    "  name = \"occurances\", temporary = FALSE\n",
    ")\n",
    "copy_to(\n",
    "  con, read.table(\"sample_list.tsv\", sep = \"\\t\", header = TRUE),\n",
    "  name = \"samples\", temporary = FALSE\n",
    ")\n",
    "copy_to(\n",
    "  con, read.table(\"taxa_list.tsv\", sep = \"\\t\", header = TRUE),\n",
    "  name = \"taxa\", temporary = FALSE\n",
    ")\n",
    "copy_to(\n",
    "  con, read.table(\"Pubs.tsv\", sep = \"\\t\", header = TRUE),\n",
    "  name = \"ncbi\", temporary = FALSE\n",
    ")"
   ]
  },
  {
   "cell_type": "code",
   "execution_count": 4,
   "metadata": {
    "vscode": {
     "languageId": "r"
    }
   },
   "outputs": [],
   "source": [
    "dbDisconnect(con, shutdown = TRUE)"
   ]
  }
 ],
 "metadata": {
  "kernelspec": {
   "display_name": "R",
   "language": "R",
   "name": "ir"
  },
  "language_info": {
   "codemirror_mode": "r",
   "file_extension": ".r",
   "mimetype": "text/x-r-source",
   "name": "R",
   "pygments_lexer": "r",
   "version": "4.3.2"
  }
 },
 "nbformat": 4,
 "nbformat_minor": 2
}
