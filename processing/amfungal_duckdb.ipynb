{
 "cells": [
  {
   "cell_type": "code",
   "execution_count": 6,
   "metadata": {
    "vscode": {
     "languageId": "r"
    }
   },
   "outputs": [],
   "source": [
    "invisible(lapply(c(\n",
    "  \"dplyr\", \"tidyr\", \"duckdb\", \"dbplyr\"\n",
    "), library, character.only = TRUE))"
   ]
  },
  {
   "cell_type": "code",
   "execution_count": 7,
   "metadata": {
    "vscode": {
     "languageId": "r"
    }
   },
   "outputs": [],
   "source": [
    "con <- dbConnect(\n",
    "  duckdb(), dbdir = \"amfungi_lsu.duckdb\", read_only = FALSE\n",
    ")"
   ]
  },
  {
   "cell_type": "code",
   "execution_count": 8,
   "metadata": {
    "vscode": {
     "languageId": "r"
    }
   },
   "outputs": [],
   "source": [
    "copy_to(\n",
    "  con, read.table(\"globalamfungi/occurances.tsv\", sep = \"\\t\", header = TRUE),\n",
    "  name = \"occurances\", temporary = FALSE\n",
    ")\n",
    "copy_to(\n",
    "  con, read.table(\"globalamfungi/sample_list.tsv\", sep = \"\\t\", header = TRUE),\n",
    "  name = \"samples\", temporary = FALSE\n",
    ")\n",
    "copy_to(\n",
    "  con, read.table(\"globalamfungi/taxa_list.tsv\", sep = \"\\t\", header = TRUE),\n",
    "  name = \"taxa\", temporary = FALSE\n",
    ")\n",
    "copy_to(\n",
    "  con, read.table(\"globalamfungi/studies.tsv\", sep = \"\\t\", header = TRUE),\n",
    "  name = \"studies\", temporary = FALSE\n",
    ")"
   ]
  },
  {
   "cell_type": "code",
   "execution_count": 9,
   "metadata": {
    "vscode": {
     "languageId": "r"
    }
   },
   "outputs": [
    {
     "data": {
      "text/html": [
       "0"
      ],
      "text/latex": [
       "0"
      ],
      "text/markdown": [
       "0"
      ],
      "text/plain": [
       "[1] 0"
      ]
     },
     "metadata": {},
     "output_type": "display_data"
    },
    {
     "data": {
      "text/html": [
       "0"
      ],
      "text/latex": [
       "0"
      ],
      "text/markdown": [
       "0"
      ],
      "text/plain": [
       "[1] 0"
      ]
     },
     "metadata": {},
     "output_type": "display_data"
    }
   ],
   "source": [
    "dbExecute(con, \"ALTER TABLE occurances ALTER sample_id TYPE VARCHAR\")\n",
    "dbExecute(con, \"ALTER TABLE samples ALTER id TYPE VARCHAR\")"
   ]
  },
  {
   "cell_type": "code",
   "execution_count": 10,
   "metadata": {
    "vscode": {
     "languageId": "r"
    }
   },
   "outputs": [
    {
     "name": "stderr",
     "output_type": "stream",
     "text": [
      "Matching, by = \"uid\"\n",
      "Matching, by = \"taxa_id\"\n",
      "Matching, by = \"paper_id\"\n",
      "Matching, by = \"id\"\n"
     ]
    }
   ],
   "source": [
    "rows_insert(\n",
    "  tbl(con, \"occurances\"),\n",
    "  read.table(\"geohouse/h_occurances.tsv\", sep = \"\\t\", header = TRUE),\n",
    "  conflict = \"ignore\", copy = TRUE, in_place = TRUE\n",
    ")\n",
    "rows_insert(\n",
    "  tbl(con, \"taxa\"),\n",
    "  read.table(\"geohouse/taxa.tsv\", sep = \"\\t\", header = TRUE),\n",
    "  conflict = \"ignore\", copy = TRUE, in_place = TRUE\n",
    ")\n",
    "rows_insert(\n",
    "  tbl(con, \"studies\"),\n",
    "  read.table(\"geohouse/study.tsv\", sep = \"\\t\", header = TRUE),\n",
    "  conflict = \"ignore\", copy = TRUE, in_place = TRUE\n",
    ")\n",
    "rows_insert(\n",
    "  tbl(con, \"samples\"),\n",
    "  read.table(\"geohouse/samples.tsv\", sep = \"\\t\", header = TRUE),\n",
    "  conflict = \"ignore\", copy = TRUE, in_place = TRUE\n",
    ")"
   ]
  },
  {
   "cell_type": "code",
   "execution_count": 11,
   "metadata": {
    "vscode": {
     "languageId": "r"
    }
   },
   "outputs": [
    {
     "name": "stderr",
     "output_type": "stream",
     "text": [
      "Matching, by = \"paper_id\"\n",
      "Matching, by = \"id\"\n"
     ]
    }
   ],
   "source": [
    "rows_insert(\n",
    "  tbl(con, \"studies\"),\n",
    "  read.table(\"maps/study.tsv\", sep = \"\\t\", header = TRUE),\n",
    "  conflict = \"ignore\", copy = TRUE, in_place = TRUE\n",
    ")\n",
    "rows_insert(\n",
    "  tbl(con, \"samples\"),\n",
    "  read.table(\"maps/samples.tsv\", sep = \"\\t\", header = TRUE),\n",
    "  conflict = \"ignore\", copy = TRUE, in_place = TRUE\n",
    ")"
   ]
  },
  {
   "cell_type": "code",
   "execution_count": 12,
   "metadata": {
    "vscode": {
     "languageId": "r"
    }
   },
   "outputs": [],
   "source": [
    "dbDisconnect(con, shutdown = TRUE)"
   ]
  }
 ],
 "metadata": {
  "kernelspec": {
   "display_name": "R",
   "language": "R",
   "name": "ir"
  },
  "language_info": {
   "codemirror_mode": "r",
   "file_extension": ".r",
   "mimetype": "text/x-r-source",
   "name": "R",
   "pygments_lexer": "r",
   "version": "4.3.3"
  }
 },
 "nbformat": 4,
 "nbformat_minor": 2
}
