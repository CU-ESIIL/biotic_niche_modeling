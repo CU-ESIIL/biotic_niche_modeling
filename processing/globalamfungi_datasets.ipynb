{
 "cells": [
  {
   "cell_type": "code",
   "execution_count": 2,
   "metadata": {
    "vscode": {
     "languageId": "r"
    }
   },
   "outputs": [
    {
     "name": "stderr",
     "output_type": "stream",
     "text": [
      "Loading required package: BiocGenerics\n",
      "\n"
     ]
    },
    {
     "name": "stderr",
     "output_type": "stream",
     "text": [
      "\n",
      "Attaching package: ‘BiocGenerics’\n",
      "\n",
      "\n",
      "The following objects are masked from ‘package:stats’:\n",
      "\n",
      "    IQR, mad, sd, var, xtabs\n",
      "\n",
      "\n",
      "The following objects are masked from ‘package:base’:\n",
      "\n",
      "    anyDuplicated, aperm, append, as.data.frame, basename, cbind,\n",
      "    colnames, dirname, do.call, duplicated, eval, evalq, Filter, Find,\n",
      "    get, grep, grepl, intersect, is.unsorted, lapply, Map, mapply,\n",
      "    match, mget, order, paste, pmax, pmax.int, pmin, pmin.int,\n",
      "    Position, rank, rbind, Reduce, rownames, sapply, setdiff, sort,\n",
      "    table, tapply, union, unique, unsplit, which.max, which.min\n",
      "\n",
      "\n",
      "Loading required package: S4Vectors\n",
      "\n",
      "Loading required package: stats4\n",
      "\n",
      "\n",
      "Attaching package: ‘S4Vectors’\n",
      "\n",
      "\n",
      "The following object is masked from ‘package:utils’:\n",
      "\n",
      "    findMatches\n",
      "\n",
      "\n",
      "The following objects are masked from ‘package:base’:\n",
      "\n",
      "    expand.grid, I, unname\n",
      "\n",
      "\n",
      "Loading required package: IRanges\n",
      "\n",
      "Loading required package: XVector\n",
      "\n",
      "Loading required package: GenomeInfoDb\n",
      "\n",
      "\n",
      "Attaching package: ‘Biostrings’\n",
      "\n",
      "\n",
      "The following object is masked from ‘package:base’:\n",
      "\n",
      "    strsplit\n",
      "\n",
      "\n",
      "\n",
      "Attaching package: ‘tidyr’\n",
      "\n",
      "\n",
      "The following object is masked from ‘package:S4Vectors’:\n",
      "\n",
      "    expand\n",
      "\n",
      "\n"
     ]
    }
   ],
   "source": [
    "invisible(lapply(c(\n",
    "  \"rentrez\", \"XML\", \"Biostrings\", \"tidyr\"\n",
    "), library, character.only = TRUE))\n",
    "\n",
    "# Set up appropriate contrasts for Type III ANOVAs\n",
    "## First arg is for unordered factors, second is for ordered\n",
    "## contr.sum contrast coefficients for each categorical add up to 0\n",
    "## contr.poly contrasts measures the rate of change of the set of coefficients\n",
    "options(contrasts = c(\"contr.sum\", \"contr.poly\"))"
   ]
  },
  {
   "cell_type": "markdown",
   "metadata": {},
   "source": [
    "# Reading the fasta files from GlobalAMFungi database"
   ]
  },
  {
   "cell_type": "code",
   "execution_count": 43,
   "metadata": {
    "vscode": {
     "languageId": "r"
    }
   },
   "outputs": [],
   "source": [
    "fasta_files <- lapply(\n",
    "  list.files(\n",
    "    path = \"globalamfungi_LSU\", pattern = \"\\\\.fas$\", full.names = TRUE\n",
    "  ),\n",
    "  \\(x) readDNAStringSet(x)\n",
    ")\n",
    "\n",
    "# taxon <- readDNAStringSet(unzip(\"globalamfungi_LSU/acc_AY639235.zip\"))\n",
    "# 469163cb7da0bc34d45ed101ee1662a4|SampleID_8301|acc_AF396782|marker_LSU|abund_1_total_372\n",
    "occurance_table <- data.frame()\n",
    "for(taxon in fasta_files) {\n",
    "  taxon_table <- setNames(as.data.frame(names(taxon)), \"var\") |>\n",
    "    separate_wider_delim(\n",
    "      var,\n",
    "      delim = \"|\",\n",
    "      names = c(\"uid\", \"sample_id\", \"taxon_id\", \"marker\", \"abundance\")\n",
    "    ) |>\n",
    "    separate_wider_delim(\n",
    "      abundance,\n",
    "      delim = \"_\",\n",
    "      names = c(\"_1\", \"abundance\", \"_2\", \"total\")\n",
    "    ) |>\n",
    "    separate_wider_delim(\n",
    "      sample_id,\n",
    "      delim = \"_\",\n",
    "      names = c(\"_3\", \"sample_id\")\n",
    "    ) |>\n",
    "    separate_wider_delim(\n",
    "      marker,\n",
    "      delim = \"_\",\n",
    "      names = c(\"_4\", \"marker\")\n",
    "    ) |>\n",
    "    separate_wider_delim(\n",
    "      taxon_id,\n",
    "      delim = \"_\",\n",
    "      names = c(\"_5\", \"taxon_id\")\n",
    "    ) |>\n",
    "    (\\(x) subset(x, select = !startsWith(colnames(x), \"_\")))()\n",
    "  occurance_table <- rbind(occurance_table, taxon_table)\n",
    "}\n",
    "write.table(occurance_table, \"occurances.tsv\", row.names = FALSE, sep = \"\\t\")"
   ]
  },
  {
   "cell_type": "markdown",
   "metadata": {},
   "source": [
    "# Reading NCBI entries for the GlobalAMFungi LSU accession numbers"
   ]
  },
  {
   "cell_type": "code",
   "execution_count": 2,
   "metadata": {
    "vscode": {
     "languageId": "r"
    }
   },
   "outputs": [],
   "source": [
    "accessions <- unname(unlist(read.csv(\"accessions.csv\", header = FALSE)))\n",
    "\n",
    "xml_results <- entrez_fetch(\n",
    "  db=\"nucleotide\", id = accessions, rettype = \"gbc\",\n",
    "  retmode = \"xml\", parsed = TRUE\n",
    ")\n",
    "\n",
    "fncols <- function(data, cname) {\n",
    "  add <- cname[!cname %in% names(data)]\n",
    "  if(length(add) != 0) data[add] <- NA\n",
    "  data\n",
    "}\n",
    "\n",
    "# function to collate all publications associated with sequences\n",
    "get_pub_info <- function(i){\n",
    "  fetch2 <- entrez_fetch(\n",
    "    db = \"nucleotide\", id = i,\n",
    "    rettype = \"gbc\", retmode = \"xml\", parsed = TRUE\n",
    "  )\n",
    "  xml_list2 <- xmlToList(fetch2)\n",
    "  ref_list <- xml_list2$INSDSeq$INSDSeq_references\n",
    "  # extract publication fields info\n",
    "  authors <- unlist(\n",
    "    ref_list$INSDReference$INSDReference_authors\n",
    "  ) |> paste(collapse = \"; \")\n",
    "  title <- ref_list$INSDReference$INSDReference_title\n",
    "  journal <- ref_list$INSDReference$INSDReference_journal\n",
    "  year <- gsub(\".*\\\\((.*)\\\\).*\", \"\\\\1\", journal)\n",
    "  pm_id <- ref_list$INSDReference$INSDReference_pubmed\n",
    "  remark <- ref_list$INSDReference$INSDReference_remark\n",
    "  # create data frame of information\n",
    "  pub.data <- data.frame(i, authors, journal, year)\n",
    "  if(is.null(title) == FALSE) pub.data$title <- title\n",
    "  if(is.null(pm_id) == FALSE) pub.data$pubmed_id <- pm_id\n",
    "  if(is.null(remark) == FALSE) pub.data$remark <- remark\n",
    "  pub.data <- fncols(pub.data, c(\"title\", \"pubmed_id\", \"remark\"))\n",
    "}\n",
    "\n",
    "list_of_dfs <- lapply(accessions, get_pub_info)\n",
    "\n",
    "df_combine <- do.call(rbind, list_of_dfs)\n",
    "colnames(df_combine)[1] <- \"NCBI_idv\"\n",
    "# df_combine <- tidyr::separate(\n",
    "# \tdf_combine, remark, c(\"text\", \"doi\"), sep = \"DOI:\"\n",
    "# ) # extract doi\n",
    "# df_combine <- tidyr::separate(df_combine, doi, c(\"doi\", \"text2\"), sep = \";\")\n",
    "# df_combine$remark <- paste(df_combine$text,df_combine$text2)\n",
    "write.table(df_combine, \"Pubs.tsv\", sep = \"\\t\", row.names = FALSE)"
   ]
  }
 ],
 "metadata": {
  "kernelspec": {
   "display_name": "R",
   "language": "R",
   "name": "ir"
  },
  "language_info": {
   "codemirror_mode": "r",
   "file_extension": ".r",
   "mimetype": "text/x-r-source",
   "name": "R",
   "pygments_lexer": "r",
   "version": "4.3.2"
  }
 },
 "nbformat": 4,
 "nbformat_minor": 2
}
