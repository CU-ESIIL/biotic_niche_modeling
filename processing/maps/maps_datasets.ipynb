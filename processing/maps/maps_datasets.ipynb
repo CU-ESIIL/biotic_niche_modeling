{
 "cells": [
  {
   "cell_type": "code",
   "execution_count": 1,
   "metadata": {
    "vscode": {
     "languageId": "r"
    }
   },
   "outputs": [
    {
     "name": "stderr",
     "output_type": "stream",
     "text": [
      "\n",
      "Attaching package: ‘dplyr’\n",
      "\n",
      "\n",
      "The following objects are masked from ‘package:stats’:\n",
      "\n",
      "    filter, lag\n",
      "\n",
      "\n",
      "The following objects are masked from ‘package:base’:\n",
      "\n",
      "    intersect, setdiff, setequal, union\n",
      "\n",
      "\n"
     ]
    }
   ],
   "source": [
    "invisible(lapply(c(\n",
    "  \"dplyr\",\"tidyr\"\n",
    "), library, character.only = TRUE))\n",
    "\n",
    "# Set up appropriate contrasts for Type III ANOVAs\n",
    "## First arg is for unordered factors, second is for ordered\n",
    "## contr.sum contrast coefficients for each categorical add up to 0\n",
    "## contr.poly contrasts measures the rate of change of the set of coefficients\n",
    "options(contrasts = c(\"contr.sum\", \"contr.poly\"))"
   ]
  },
  {
   "cell_type": "markdown",
   "metadata": {},
   "source": [
    "## Removing empty ASVs\n",
    "Some asvs have no counts if you remove the deeper depth and non maps studies"
   ]
  },
  {
   "cell_type": "code",
   "execution_count": 2,
   "metadata": {
    "vscode": {
     "languageId": "r"
    }
   },
   "outputs": [],
   "source": [
    "occurances <- read.table(\n",
    "  file = \"occurances.tsv\", sep = \"\\t\",\n",
    "  header = TRUE, check.names = FALSE\n",
    ")\n",
    "taxa <- read.table(\n",
    "  file = \"taxa.tsv\", sep = \"\\t\",\n",
    "  header = TRUE, check.names = FALSE\n",
    ")\n",
    "totals <- colSums(occurances[!colnames(occurances) %in% c(\"uid\", \"sample_id\", \"marker\")])\n",
    "nonzero_asvs <- names(totals[totals > 0])\n",
    "new_occurances <- occurances[,colnames(occurances) %in% c(\"uid\", \"sample_id\", \"marker\", nonzero_asvs, \"total\")]\n",
    "new_taxa <- taxa[taxa$taxa_id %in% nonzero_asvs, ]\n",
    "\n",
    "write.table(new_occurances, \"new_occurances.tsv\", sep=\"\\t\", row.names=FALSE, quote=FALSE)\n",
    "write.table(new_taxa, \"new_taxa.tsv\", sep=\"\\t\", row.names=FALSE, quote=FALSE)"
   ]
  },
  {
   "cell_type": "code",
   "execution_count": 3,
   "metadata": {
    "vscode": {
     "languageId": "r"
    }
   },
   "outputs": [
    {
     "data": {
      "text/html": [
       "2392"
      ],
      "text/latex": [
       "2392"
      ],
      "text/markdown": [
       "2392"
      ],
      "text/plain": [
       "[1] 2392"
      ]
     },
     "metadata": {},
     "output_type": "display_data"
    },
    {
     "data": {
      "text/html": [
       "63664"
      ],
      "text/latex": [
       "63664"
      ],
      "text/markdown": [
       "63664"
      ],
      "text/plain": [
       "[1] 63664"
      ]
     },
     "metadata": {},
     "output_type": "display_data"
    },
    {
     "data": {
      "text/html": [
       "2000"
      ],
      "text/latex": [
       "2000"
      ],
      "text/markdown": [
       "2000"
      ],
      "text/plain": [
       "[1] 2000"
      ]
     },
     "metadata": {},
     "output_type": "display_data"
    },
    {
     "data": {
      "text/html": [
       "24789"
      ],
      "text/latex": [
       "24789"
      ],
      "text/markdown": [
       "24789"
      ],
      "text/plain": [
       "[1] 24789"
      ]
     },
     "metadata": {},
     "output_type": "display_data"
    }
   ],
   "source": [
    "occurances <- read.table(\n",
    "  file = \"new_occurances.tsv\", sep = \"\\t\",\n",
    "  header = TRUE, check.names = FALSE\n",
    ")\n",
    "taxa <- read.table(\n",
    "  file = \"new_taxa.tsv\", sep = \"\\t\",\n",
    "  header = TRUE, check.names = FALSE\n",
    ")\n",
    "occurances <- pivot_longer(\n",
    "  data = occurances,\n",
    "  cols = !all_of(c(\"uid\", \"sample_id\", \"marker\", \"total\")),\n",
    "  names_to = \"taxon_id\",\n",
    "  values_to = \"abundance\"\n",
    ")\n",
    "# |> filter(abundance > 0)\n",
    "\n",
    "# Need to exclude non AMF\n",
    "nrow(occurances[occurances$taxon_id %in% taxa$taxa_id, \"abundance\"])\n",
    "nrow(occurances[, \"abundance\"])\n",
    "sum(occurances[occurances$taxon_id %in% taxa$taxa_id, \"abundance\"])\n",
    "sum(occurances[, \"abundance\"])\n",
    "occurances <- occurances[occurances$taxon_id %in% taxa$taxa_id, ]\n",
    "\n",
    "write.table(occurances, \"m_occurances.tsv\", sep = \"\\t\",row.names = FALSE, col.names = TRUE)"
   ]
  }
 ],
 "metadata": {
  "kernelspec": {
   "display_name": "R",
   "language": "R",
   "name": "ir"
  },
  "language_info": {
   "codemirror_mode": "r",
   "file_extension": ".r",
   "mimetype": "text/x-r-source",
   "name": "R",
   "pygments_lexer": "r",
   "version": "4.4.3"
  }
 },
 "nbformat": 4,
 "nbformat_minor": 2
}
